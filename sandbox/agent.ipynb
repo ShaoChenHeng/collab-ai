{
 "cells": [
  {
   "cell_type": "code",
   "id": "initial_id",
   "metadata": {
    "collapsed": true,
    "ExecuteTime": {
     "end_time": "2025-07-17T09:48:12.345746Z",
     "start_time": "2025-07-17T09:47:51.912930Z"
    }
   },
   "source": [
    "from LLM import Qwen2_LLM\n",
    "model_dir = \"/home/scheng/llm/Qwen2-7B-Instruct\"\n",
    "llm = Qwen2_LLM(mode_name_or_path = model_dir)"
   ],
   "outputs": [
    {
     "name": "stdout",
     "output_type": "stream",
     "text": [
      "正在从本地加载模型...\n"
     ]
    },
    {
     "data": {
      "text/plain": [
       "Loading checkpoint shards:   0%|          | 0/4 [00:00<?, ?it/s]"
      ],
      "application/vnd.jupyter.widget-view+json": {
       "version_major": 2,
       "version_minor": 0,
       "model_id": "1b5f26b54d3f41bba81e476d051fe2fa"
      }
     },
     "metadata": {},
     "output_type": "display_data"
    },
    {
     "name": "stdout",
     "output_type": "stream",
     "text": [
      "完成本地模型的加载\n"
     ]
    }
   ],
   "execution_count": 1
  },
  {
   "metadata": {
    "ExecuteTime": {
     "end_time": "2025-07-17T09:56:52.497811Z",
     "start_time": "2025-07-17T09:56:52.491098Z"
    }
   },
   "cell_type": "code",
   "source": [
    "def build_prompt(user_input: str, history: list) -> str:\n",
    "    prompt = \"\"\n",
    "    for user, bot in history:\n",
    "        prompt += f\"用户：{user}\\n助手：{bot}\\n\"\n",
    "    prompt += f\"用户：{user_input}\\n助手：\"\n",
    "    return prompt"
   ],
   "id": "ebf2c561fac073e5",
   "outputs": [],
   "execution_count": 9
  },
  {
   "metadata": {
    "ExecuteTime": {
     "end_time": "2025-07-17T09:58:23.543007Z",
     "start_time": "2025-07-17T09:57:10.911044Z"
    }
   },
   "cell_type": "code",
   "source": [
    "history = []\n",
    "while True:\n",
    "    user_input = input(\"你：\")\n",
    "\n",
    "    if user_input.strip().lower() in [\"exit\", \"quit\", \"bye\"]:\n",
    "        break\n",
    "\n",
    "    prompt = build_prompt(user_input, history)\n",
    "    bot_reply = llm.invoke(prompt)\n",
    "    print(\"助手：\", bot_reply)\n",
    "    history.append((user_input, bot_reply))"
   ],
   "id": "fd84c8e22aaecb96",
   "outputs": [
    {
     "name": "stdout",
     "output_type": "stream",
     "text": [
      "[]\n",
      "助手： 你好！有什么我可以帮助你的吗？\n",
      "[('你好', '你好！有什么我可以帮助你的吗？')]\n",
      "助手： 你好，小明！很高兴见到你。你可以问我任何问题，我会尽力提供帮助。无论是学习、工作、生活中的疑惑，还是你想聊的话题，都可以告诉我。\n",
      "[('你好', '你好！有什么我可以帮助你的吗？'), ('我是小明', '你好，小明！很高兴见到你。你可以问我任何问题，我会尽力提供帮助。无论是学习、工作、生活中的疑惑，还是你想聊的话题，都可以告诉我。')]\n",
      "助手： 你刚刚介绍自己是小明。如果你有其他问题或需要帮助的事项，请继续告诉我，我会尽力协助你。\n",
      "[('你好', '你好！有什么我可以帮助你的吗？'), ('我是小明', '你好，小明！很高兴见到你。你可以问我任何问题，我会尽力提供帮助。无论是学习、工作、生活中的疑惑，还是你想聊的话题，都可以告诉我。'), ('刚才我说自己是谁？', '你刚刚介绍自己是小明。如果你有其他问题或需要帮助的事项，请继续告诉我，我会尽力协助你。')]\n",
      "助手： 你好，小刚！很高兴你告诉我这个变化。如果你有任何问题或者需要帮助，随时可以向我提问。无论是在学习、工作、生活方面，还是有其他话题想讨论，我都愿意为你提供支持。请尽管提出你的需求。\n",
      "[('你好', '你好！有什么我可以帮助你的吗？'), ('我是小明', '你好，小明！很高兴见到你。你可以问我任何问题，我会尽力提供帮助。无论是学习、工作、生活中的疑惑，还是你想聊的话题，都可以告诉我。'), ('刚才我说自己是谁？', '你刚刚介绍自己是小明。如果你有其他问题或需要帮助的事项，请继续告诉我，我会尽力协助你。'), ('我现在改名了，我叫小刚', '你好，小刚！很高兴你告诉我这个变化。如果你有任何问题或者需要帮助，随时可以向我提问。无论是在学习、工作、生活方面，还是有其他话题想讨论，我都愿意为你提供支持。请尽管提出你的需求。')]\n",
      "助手： 你刚刚介绍自己是小刚。如果你有其他问题或者需要帮助的地方，请随时告诉我。我会尽力提供支持和解答。\n",
      "[('你好', '你好！有什么我可以帮助你的吗？'), ('我是小明', '你好，小明！很高兴见到你。你可以问我任何问题，我会尽力提供帮助。无论是学习、工作、生活中的疑惑，还是你想聊的话题，都可以告诉我。'), ('刚才我说自己是谁？', '你刚刚介绍自己是小明。如果你有其他问题或需要帮助的事项，请继续告诉我，我会尽力协助你。'), ('我现在改名了，我叫小刚', '你好，小刚！很高兴你告诉我这个变化。如果你有任何问题或者需要帮助，随时可以向我提问。无论是在学习、工作、生活方面，还是有其他话题想讨论，我都愿意为你提供支持。请尽管提出你的需求。'), ('刚才我说自己是谁？', '你刚刚介绍自己是小刚。如果你有其他问题或者需要帮助的地方，请随时告诉我。我会尽力提供支持和解答。')]\n",
      "助手： 你刚刚介绍自己是小刚。如果你有更多问题或需要帮助，请继续告诉我。我在这里为你提供支持和解答。\n"
     ]
    },
    {
     "ename": "KeyboardInterrupt",
     "evalue": "Interrupted by user",
     "output_type": "error",
     "traceback": [
      "\u001B[31m---------------------------------------------------------------------------\u001B[39m",
      "\u001B[31mKeyboardInterrupt\u001B[39m                         Traceback (most recent call last)",
      "\u001B[36mCell\u001B[39m\u001B[36m \u001B[39m\u001B[32mIn[11]\u001B[39m\u001B[32m, line 3\u001B[39m\n\u001B[32m      1\u001B[39m history = []\n\u001B[32m      2\u001B[39m \u001B[38;5;28;01mwhile\u001B[39;00m \u001B[38;5;28;01mTrue\u001B[39;00m:\n\u001B[32m----> \u001B[39m\u001B[32m3\u001B[39m     user_input = \u001B[38;5;28;43minput\u001B[39;49m\u001B[43m(\u001B[49m\u001B[33;43m\"\u001B[39;49m\u001B[33;43m你：\u001B[39;49m\u001B[33;43m\"\u001B[39;49m\u001B[43m)\u001B[49m\n\u001B[32m      5\u001B[39m     \u001B[38;5;28;01mif\u001B[39;00m user_input.strip().lower() \u001B[38;5;129;01min\u001B[39;00m [\u001B[33m\"\u001B[39m\u001B[33mexit\u001B[39m\u001B[33m\"\u001B[39m, \u001B[33m\"\u001B[39m\u001B[33mquit\u001B[39m\u001B[33m\"\u001B[39m, \u001B[33m\"\u001B[39m\u001B[33mbye\u001B[39m\u001B[33m\"\u001B[39m]:\n\u001B[32m      6\u001B[39m         \u001B[38;5;28;01mbreak\u001B[39;00m\n",
      "\u001B[36mFile \u001B[39m\u001B[32m~/github-project/collab-ai/.venv/lib/python3.13/site-packages/ipykernel/kernelbase.py:1282\u001B[39m, in \u001B[36mKernel.raw_input\u001B[39m\u001B[34m(self, prompt)\u001B[39m\n\u001B[32m   1280\u001B[39m     msg = \u001B[33m\"\u001B[39m\u001B[33mraw_input was called, but this frontend does not support input requests.\u001B[39m\u001B[33m\"\u001B[39m\n\u001B[32m   1281\u001B[39m     \u001B[38;5;28;01mraise\u001B[39;00m StdinNotImplementedError(msg)\n\u001B[32m-> \u001B[39m\u001B[32m1282\u001B[39m \u001B[38;5;28;01mreturn\u001B[39;00m \u001B[38;5;28;43mself\u001B[39;49m\u001B[43m.\u001B[49m\u001B[43m_input_request\u001B[49m\u001B[43m(\u001B[49m\n\u001B[32m   1283\u001B[39m \u001B[43m    \u001B[49m\u001B[38;5;28;43mstr\u001B[39;49m\u001B[43m(\u001B[49m\u001B[43mprompt\u001B[49m\u001B[43m)\u001B[49m\u001B[43m,\u001B[49m\n\u001B[32m   1284\u001B[39m \u001B[43m    \u001B[49m\u001B[38;5;28;43mself\u001B[39;49m\u001B[43m.\u001B[49m\u001B[43m_parent_ident\u001B[49m\u001B[43m[\u001B[49m\u001B[33;43m\"\u001B[39;49m\u001B[33;43mshell\u001B[39;49m\u001B[33;43m\"\u001B[39;49m\u001B[43m]\u001B[49m\u001B[43m,\u001B[49m\n\u001B[32m   1285\u001B[39m \u001B[43m    \u001B[49m\u001B[38;5;28;43mself\u001B[39;49m\u001B[43m.\u001B[49m\u001B[43mget_parent\u001B[49m\u001B[43m(\u001B[49m\u001B[33;43m\"\u001B[39;49m\u001B[33;43mshell\u001B[39;49m\u001B[33;43m\"\u001B[39;49m\u001B[43m)\u001B[49m\u001B[43m,\u001B[49m\n\u001B[32m   1286\u001B[39m \u001B[43m    \u001B[49m\u001B[43mpassword\u001B[49m\u001B[43m=\u001B[49m\u001B[38;5;28;43;01mFalse\u001B[39;49;00m\u001B[43m,\u001B[49m\n\u001B[32m   1287\u001B[39m \u001B[43m\u001B[49m\u001B[43m)\u001B[49m\n",
      "\u001B[36mFile \u001B[39m\u001B[32m~/github-project/collab-ai/.venv/lib/python3.13/site-packages/ipykernel/kernelbase.py:1325\u001B[39m, in \u001B[36mKernel._input_request\u001B[39m\u001B[34m(self, prompt, ident, parent, password)\u001B[39m\n\u001B[32m   1322\u001B[39m \u001B[38;5;28;01mexcept\u001B[39;00m \u001B[38;5;167;01mKeyboardInterrupt\u001B[39;00m:\n\u001B[32m   1323\u001B[39m     \u001B[38;5;66;03m# re-raise KeyboardInterrupt, to truncate traceback\u001B[39;00m\n\u001B[32m   1324\u001B[39m     msg = \u001B[33m\"\u001B[39m\u001B[33mInterrupted by user\u001B[39m\u001B[33m\"\u001B[39m\n\u001B[32m-> \u001B[39m\u001B[32m1325\u001B[39m     \u001B[38;5;28;01mraise\u001B[39;00m \u001B[38;5;167;01mKeyboardInterrupt\u001B[39;00m(msg) \u001B[38;5;28;01mfrom\u001B[39;00m\u001B[38;5;250m \u001B[39m\u001B[38;5;28;01mNone\u001B[39;00m\n\u001B[32m   1326\u001B[39m \u001B[38;5;28;01mexcept\u001B[39;00m \u001B[38;5;167;01mException\u001B[39;00m:\n\u001B[32m   1327\u001B[39m     \u001B[38;5;28mself\u001B[39m.log.warning(\u001B[33m\"\u001B[39m\u001B[33mInvalid Message:\u001B[39m\u001B[33m\"\u001B[39m, exc_info=\u001B[38;5;28;01mTrue\u001B[39;00m)\n",
      "\u001B[31mKeyboardInterrupt\u001B[39m: Interrupted by user"
     ]
    }
   ],
   "execution_count": 11
  },
  {
   "metadata": {
    "ExecuteTime": {
     "end_time": "2025-07-17T10:01:28.104541Z",
     "start_time": "2025-07-17T10:01:27.898588Z"
    }
   },
   "cell_type": "code",
   "source": [
    "del llm\n",
    "import gc\n",
    "gc.collect()\n",
    "import torch\n",
    "if torch.cuda.is_available():\n",
    "    torch.cuda.empty_cache()\n",
    "    torch.cuda.ipc_collect()"
   ],
   "id": "1c067eb9fe3bedeb",
   "outputs": [],
   "execution_count": 12
  }
 ],
 "metadata": {
  "kernelspec": {
   "display_name": "Python 3",
   "language": "python",
   "name": "python3"
  },
  "language_info": {
   "codemirror_mode": {
    "name": "ipython",
    "version": 2
   },
   "file_extension": ".py",
   "mimetype": "text/x-python",
   "name": "python",
   "nbconvert_exporter": "python",
   "pygments_lexer": "ipython2",
   "version": "2.7.6"
  }
 },
 "nbformat": 4,
 "nbformat_minor": 5
}
